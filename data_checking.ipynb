{
 "cells": [
  {
   "cell_type": "code",
   "execution_count": 1,
   "metadata": {},
   "outputs": [
    {
     "name": "stderr",
     "output_type": "stream",
     "text": [
      "/home/anaconda3/envs/joono/lib/python3.10/site-packages/tqdm/auto.py:21: TqdmWarning: IProgress not found. Please update jupyter and ipywidgets. See https://ipywidgets.readthedocs.io/en/stable/user_install.html\n",
      "  from .autonotebook import tqdm as notebook_tqdm\n"
     ]
    }
   ],
   "source": [
    "import numpy as np\n",
    "import pandas as pd\n",
    "import matplotlib.pyplot as plt\n",
    "\n",
    "import math\n",
    "import librosa\n",
    "\n",
    "from src.datamodules import AASISTDataset, MFCCDataset, FixMatchDataset\n",
    "\n",
    "from IPython.display import Audio"
   ]
  },
  {
   "cell_type": "code",
   "execution_count": 2,
   "metadata": {},
   "outputs": [],
   "source": [
    "train_df = pd.read_csv(\"../dataset/train.csv\")\n",
    "test_df = pd.read_csv(\"../dataset/test.csv\")\n",
    "unlabeled_df = pd.read_csv(\"../dataset/unlabeled_data.csv\")"
   ]
  },
  {
   "cell_type": "code",
   "execution_count": 3,
   "metadata": {},
   "outputs": [
    {
     "name": "stderr",
     "output_type": "stream",
     "text": [
      "/home/anaconda3/envs/joono/lib/python3.10/site-packages/transformers/configuration_utils.py:364: UserWarning: Passing `gradient_checkpointing` to a config initialization is deprecated and will be removed in v5 Transformers. Using `model.gradient_checkpointing_enable()` instead, or if you are using the `Trainer` API, pass `gradient_checkpointing=True` in your `TrainingArguments`.\n",
      "  warnings.warn(\n"
     ]
    }
   ],
   "source": [
    "train_dset = FixMatchDataset(df=train_df, unlabeled_df=unlabeled_df, train_mode=True, model_name=\"facebook/wav2vec2-base\")\n",
    "test_dset = FixMatchDataset(df=test_df, train_mode=False, model_name=\"facebook/wav2vec2-base\")\n",
    "unlabeled_dset  = FixMatchDataset(df=unlabeled_df, train_mode=False, model_name=\"facebook/wav2vec2-base\")"
   ]
  },
  {
   "cell_type": "code",
   "execution_count": 4,
   "metadata": {},
   "outputs": [],
   "source": [
    "# train_dset = AASISTDataset(df=train_df, train_mode=True)\n",
    "# test_dset  = AASISTDataset(df=test_df, train_mode=False)\n",
    "# train_dset = MFCCDataset(df=train_df, train_mode=True, sr=16000, n_mfcc=20, n_classes=2)\n",
    "# test_dset  = MFCCDataset(df=test_df, train_mode=False, sr=16000, n_mfcc=20, n_classes=2)\n",
    "# unlabeled_dset  = MFCCDataset(df=unlabeled_df, train_mode=False, sr=16000, n_mfcc=20, n_classes=2)"
   ]
  },
  {
   "cell_type": "code",
   "execution_count": 4,
   "metadata": {},
   "outputs": [
    {
     "ename": "ModuleNotFoundError",
     "evalue": "No module named 'seaborn'",
     "output_type": "error",
     "traceback": [
      "\u001b[0;31m---------------------------------------------------------------------------\u001b[0m",
      "\u001b[0;31mModuleNotFoundError\u001b[0m                       Traceback (most recent call last)",
      "Cell \u001b[0;32mIn[4], line 3\u001b[0m\n\u001b[1;32m      1\u001b[0m \u001b[38;5;28;01mimport\u001b[39;00m \u001b[38;5;21;01mnumpy\u001b[39;00m \u001b[38;5;28;01mas\u001b[39;00m \u001b[38;5;21;01mnp\u001b[39;00m\n\u001b[1;32m      2\u001b[0m \u001b[38;5;28;01mimport\u001b[39;00m \u001b[38;5;21;01mmatplotlib\u001b[39;00m\u001b[38;5;21;01m.\u001b[39;00m\u001b[38;5;21;01mpyplot\u001b[39;00m \u001b[38;5;28;01mas\u001b[39;00m \u001b[38;5;21;01mplt\u001b[39;00m\n\u001b[0;32m----> 3\u001b[0m \u001b[38;5;28;01mimport\u001b[39;00m \u001b[38;5;21;01mseaborn\u001b[39;00m \u001b[38;5;28;01mas\u001b[39;00m \u001b[38;5;21;01msns\u001b[39;00m\n\u001b[1;32m      4\u001b[0m \u001b[38;5;28;01mfrom\u001b[39;00m \u001b[38;5;21;01mtqdm\u001b[39;00m \u001b[38;5;28;01mimport\u001b[39;00m tqdm\n\u001b[1;32m      6\u001b[0m \u001b[38;5;66;03m# Assuming train_dset and test_dset are numpy arrays or similar data structures with MFCC data\u001b[39;00m\n\u001b[1;32m      7\u001b[0m \u001b[38;5;66;03m# For example, train_dset[2][0] contains the MFCC data for a specific sample\u001b[39;00m\n",
      "\u001b[0;31mModuleNotFoundError\u001b[0m: No module named 'seaborn'"
     ]
    }
   ],
   "source": [
    "import numpy as np\n",
    "import matplotlib.pyplot as plt\n",
    "import seaborn as sns\n",
    "from tqdm import tqdm\n",
    "\n",
    "# Assuming train_dset and test_dset are numpy arrays or similar data structures with MFCC data\n",
    "# For example, train_dset[2][0] contains the MFCC data for a specific sample\n",
    "\n",
    "train_sample_indices = np.random.randint(0, len(train_dset), size=1000)\n",
    "test_sample_indices  = np.random.randint(0, len(test_dset), size=1000)\n",
    "unlabeled_sample_indices = np.random.randint(0, len(unlabeled_dset), size=1000)"
   ]
  },
  {
   "cell_type": "code",
   "execution_count": null,
   "metadata": {},
   "outputs": [],
   "source": [
    "audio, weak_audio, strong_audio, _ = train_dset[9495]"
   ]
  },
  {
   "cell_type": "code",
   "execution_count": 5,
   "metadata": {},
   "outputs": [
    {
     "ename": "NameError",
     "evalue": "name 'audio' is not defined",
     "output_type": "error",
     "traceback": [
      "\u001b[0;31m---------------------------------------------------------------------------\u001b[0m",
      "\u001b[0;31mNameError\u001b[0m                                 Traceback (most recent call last)",
      "Cell \u001b[0;32mIn[5], line 1\u001b[0m\n\u001b[0;32m----> 1\u001b[0m Audio(np\u001b[38;5;241m.\u001b[39marray(\u001b[43maudio\u001b[49m), rate\u001b[38;5;241m=\u001b[39m\u001b[38;5;241m16000\u001b[39m)\n",
      "\u001b[0;31mNameError\u001b[0m: name 'audio' is not defined"
     ]
    }
   ],
   "source": [
    "Audio(np.array(audio), rate=16000)"
   ]
  },
  {
   "cell_type": "code",
   "execution_count": 16,
   "metadata": {},
   "outputs": [
    {
     "name": "stderr",
     "output_type": "stream",
     "text": [
      "100%|██████████| 1000/1000 [00:22<00:00, 44.93it/s]\n"
     ]
    }
   ],
   "source": [
    "target_cnts = [0, 0, 0, 0]\n",
    "for i in tqdm(train_sample_indices):\n",
    "    _, _, _, target = train_dset[i]\n",
    "    target_cnts[target] += 1"
   ]
  },
  {
   "cell_type": "code",
   "execution_count": 17,
   "metadata": {},
   "outputs": [
    {
     "data": {
      "text/plain": [
       "[244, 250, 271, 235]"
      ]
     },
     "execution_count": 17,
     "metadata": {},
     "output_type": "execute_result"
    }
   ],
   "source": [
    "target_cnts"
   ]
  },
  {
   "cell_type": "code",
   "execution_count": null,
   "metadata": {},
   "outputs": [],
   "source": [
    "def get_mfcc(audio):\n",
    "    mfcc = librosa.feature.mfcc(y=np.array(audio), sr=16000, n_mfcc=20)\n",
    "    return np.mean(mfcc.T, axis=0)"
   ]
  },
  {
   "cell_type": "code",
   "execution_count": null,
   "metadata": {},
   "outputs": [],
   "source": [
    "mfcc_data_train = np.array([get_mfcc(train_dset[i][0]) for i in tqdm(train_sample_indices)])\n",
    "mfcc_data_test = np.array([get_mfcc(test_dset[i]) for i in tqdm(test_sample_indices)])\n",
    "mfcc_data_unlabeled = np.array([get_mfcc(unlabeled_dset[i]) for i in tqdm(unlabeled_sample_indices)])\n",
    "\n",
    "# Calculate summary statistics for training data\n",
    "mean_mfcc_train = np.mean(mfcc_data_train, axis=0)\n",
    "std_mfcc_train = np.std(mfcc_data_train, axis=0)\n",
    "\n",
    "# Calculate summary statistics for test data\n",
    "mean_mfcc_test = np.mean(mfcc_data_test, axis=0)\n",
    "std_mfcc_test = np.std(mfcc_data_test, axis=0)\n",
    "\n",
    "# Calculate summary statistics for weak aug unlabeled data\n",
    "mean_mfcc_unlabeled = np.mean(mfcc_data_unlabeled, axis=0)\n",
    "std_mfcc_unlabeled = np.std(mfcc_data_unlabeled, axis=0)\n",
    "\n",
    "# Plot the mean MFCC with error bars representing the standard deviation for both train and test sets\n",
    "plt.figure(figsize=(12, 8))\n",
    "\n",
    "# Plot for training data\n",
    "plt.errorbar(np.arange(len(mean_mfcc_train)), mean_mfcc_train, yerr=std_mfcc_train, fmt='-o', capsize=5, label='Train Set')\n",
    "\n",
    "# Plot for test data\n",
    "plt.errorbar(np.arange(len(mean_mfcc_test)), mean_mfcc_test, yerr=std_mfcc_test, fmt='-o', capsize=5, label='Test Set')\n",
    "\n",
    "# Plot for test data\n",
    "plt.errorbar(np.arange(len(mean_mfcc_unlabeled)), mean_mfcc_unlabeled, yerr=std_mfcc_unlabeled, fmt='-o', capsize=5, label='Unlabeled Set')\n",
    "\n",
    "plt.title('Mean MFCC with Standard Deviation for Train and Test Sets and Unlabeled')\n",
    "plt.xlabel('MFCC Coefficient Index')\n",
    "plt.ylabel('Amplitude')\n",
    "plt.legend()\n",
    "plt.show()"
   ]
  },
  {
   "cell_type": "code",
   "execution_count": null,
   "metadata": {},
   "outputs": [],
   "source": [
    "# Plot the differences between the means of train, test, and extra sets\n",
    "plt.figure(figsize=(15, 8))\n",
    "\n",
    "# Difference between train and test sets\n",
    "mean_diff_train_test = mean_mfcc_train - mean_mfcc_test\n",
    "plt.plot(mean_diff_train_test, label=\"train - test\")\n",
    "\n",
    "# Difference between train and extra sets\n",
    "mean_diff_train_extra = mean_mfcc_train - mean_mfcc_unlabeled\n",
    "plt.plot(mean_diff_train_extra, label=\"train - unlabeled\")\n",
    "\n",
    "# Difference between test and extra sets\n",
    "mean_diff_test_extra = mean_mfcc_test - mean_mfcc_unlabeled\n",
    "plt.plot(mean_diff_test_extra, label=\"test - unlabeled\")\n",
    "\n",
    "plt.title('Difference in Mean MFCC between Train, Test, and Extra Sets')\n",
    "plt.xlabel('MFCC Coefficient Index')\n",
    "plt.ylabel('Difference in Amplitude')\n",
    "plt.legend()\n",
    "plt.show()"
   ]
  },
  {
   "cell_type": "code",
   "execution_count": null,
   "metadata": {},
   "outputs": [],
   "source": [
    "# Randomly sample some MFCC data points\n",
    "sample_indices = np.random.choice(len(mfcc_data_test), size=100, replace=False)\n",
    "sample_mfcc_data = mfcc_data_test[sample_indices]\n",
    "\n",
    "# Plot a heatmap of sampled MFCC data\n",
    "plt.figure(figsize=(12, 8))\n",
    "sns.heatmap(sample_mfcc_data.T, cmap='viridis', xticklabels=sample_indices, yticklabels=np.arange(sample_mfcc_data.shape[1]))\n",
    "plt.title('Heatmap of Sampled MFCC Data')\n",
    "plt.xlabel('Sample Index')\n",
    "plt.ylabel('MFCC Coefficient Index')\n",
    "plt.show()"
   ]
  },
  {
   "cell_type": "code",
   "execution_count": null,
   "metadata": {},
   "outputs": [],
   "source": [
    "import ipywidgets as widgets\n",
    "from IPython.display import display\n",
    "\n",
    "# Define a function to plot MFCC for a given sample index\n",
    "def plot_mfcc(sample_index):\n",
    "    plt.figure(figsize=(10, 6))\n",
    "    plt.bar(x=np.arange(mfcc_data_test.shape[1]), height=mfcc_data_test[sample_index])\n",
    "    plt.title(f'MFCC for Sample Index {sample_index}')\n",
    "    plt.xlabel('MFCC Coefficient Index')\n",
    "    plt.ylabel('Amplitude')\n",
    "    plt.ylim(-300, 300)\n",
    "    plt.show()\n",
    "\n",
    "# Create an interactive widget\n",
    "sample_index_slider = widgets.IntSlider(value=0, min=0, max=len(mfcc_data_test)-1, step=1, description='Sample Index')\n",
    "\n",
    "# Display the widget\n",
    "widgets.interact(plot_mfcc, sample_index=sample_index_slider)\n"
   ]
  },
  {
   "cell_type": "code",
   "execution_count": null,
   "metadata": {},
   "outputs": [],
   "source": []
  },
  {
   "cell_type": "code",
   "execution_count": null,
   "metadata": {},
   "outputs": [],
   "source": []
  },
  {
   "cell_type": "code",
   "execution_count": null,
   "metadata": {},
   "outputs": [],
   "source": []
  },
  {
   "cell_type": "code",
   "execution_count": null,
   "metadata": {},
   "outputs": [],
   "source": [
    "Audio(labeled_audio, rate=16000)"
   ]
  },
  {
   "cell_type": "code",
   "execution_count": null,
   "metadata": {},
   "outputs": [],
   "source": []
  },
  {
   "cell_type": "code",
   "execution_count": null,
   "metadata": {},
   "outputs": [],
   "source": [
    "import torch\n",
    "\n",
    "a = torch.rand((6, 4))\n",
    "a"
   ]
  },
  {
   "cell_type": "code",
   "execution_count": null,
   "metadata": {},
   "outputs": [],
   "source": [
    "b = torch.argmax(a, dim=1)\n",
    "c, _ = torch.max(a, dim=1)\n",
    "mask = c > 0.95"
   ]
  },
  {
   "cell_type": "code",
   "execution_count": null,
   "metadata": {},
   "outputs": [],
   "source": [
    "loss_fn = torch.nn.CrossEntropyLoss(reduction='none')"
   ]
  },
  {
   "cell_type": "code",
   "execution_count": null,
   "metadata": {},
   "outputs": [],
   "source": [
    "loss = loss_fn(a, b)"
   ]
  },
  {
   "cell_type": "code",
   "execution_count": null,
   "metadata": {},
   "outputs": [],
   "source": [
    "loss * mask"
   ]
  },
  {
   "cell_type": "code",
   "execution_count": null,
   "metadata": {},
   "outputs": [],
   "source": [
    "torch.mean(loss * mask)"
   ]
  },
  {
   "cell_type": "code",
   "execution_count": 1,
   "metadata": {},
   "outputs": [],
   "source": [
    "from transformers import AutoFeatureExtractor\n",
    "import librosa\n",
    "\n",
    "feature_extractor = AutoFeatureExtractor.from_pretrained(\"facebook/wav2vec2-large-960h-lv60-self\")"
   ]
  },
  {
   "cell_type": "code",
   "execution_count": 9,
   "metadata": {},
   "outputs": [],
   "source": [
    "audio, _ = librosa.load(\"/home/joono/joono/dataset/test/TEST_00000.ogg\", sr=16000)\n",
    "audio = librosa.util.normalize(audio)\n",
    "inputs = feature_extractor(audio, sampling_rate=16000, return_tensors=\"pt\", padding=True)\n",
    "inputs = inputs[\"input_values\"]"
   ]
  },
  {
   "cell_type": "code",
   "execution_count": 10,
   "metadata": {},
   "outputs": [],
   "source": [
    "import matplotlib.pyplot as plt"
   ]
  },
  {
   "cell_type": "code",
   "execution_count": 11,
   "metadata": {},
   "outputs": [
    {
     "data": {
      "text/plain": [
       "[<matplotlib.lines.Line2D at 0x7efe81fa8b90>]"
      ]
     },
     "execution_count": 11,
     "metadata": {},
     "output_type": "execute_result"
    },
    {
     "data": {
      "image/png": "[encoded data removed]",
      "text/plain": [
       "<Figure size 640x480 with 1 Axes>"
      ]
     },
     "metadata": {},
     "output_type": "display_data"
    }
   ],
   "source": [
    "plt.plot(inputs.squeeze(0))"
   ]
  },
  {
   "cell_type": "code",
   "execution_count": 5,
   "metadata": {},
   "outputs": [
    {
     "data": {
      "text/plain": [
       "[<matplotlib.lines.Line2D at 0x7efe82207d70>]"
      ]
     },
     "execution_count": 5,
     "metadata": {},
     "output_type": "execute_result"
    },
    {
     "data": {
      "image/png": "[encoded data removed]",
      "text/plain": [
       "<Figure size 640x480 with 1 Axes>"
      ]
     },
     "metadata": {},
     "output_type": "display_data"
    }
   ],
   "source": [
    "plt.plot(librosa.util.normalize(audio))"
   ]
  },
  {
   "cell_type": "code",
   "execution_count": null,
   "metadata": {},
   "outputs": [],
   "source": []
  }
 ],
 "metadata": {
  "kernelspec": {
   "display_name": "torch",
   "language": "python",
   "name": "python3"
  },
  "language_info": {
   "codemirror_mode": {
    "name": "ipython",
    "version": 3
   },
   "file_extension": ".py",
   "mimetype": "text/x-python",
   "name": "python",
   "nbconvert_exporter": "python",
   "pygments_lexer": "ipython3",
   "version": "3.12.4"
  }
 },
 "nbformat": 4,
 "nbformat_minor": 2
}
