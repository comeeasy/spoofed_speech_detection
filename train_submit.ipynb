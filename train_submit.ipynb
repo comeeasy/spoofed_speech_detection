{
 "cells": [
  {
   "cell_type": "code",
   "execution_count": null,
   "metadata": {},
   "outputs": [],
   "source": [
    "import pandas as pd\n",
    "from src.utils import auc_brier_ece_df"
   ]
  },
  {
   "cell_type": "code",
   "execution_count": null,
   "metadata": {},
   "outputs": [],
   "source": [
    "train_answer_csv = pd.read_csv(\"/home/work/joono/joono/dataset/train_answer.csv\")\n",
    "train_submit_csv = pd.read_csv(\"/home/work/joono/joono/joono/submissions/joono_hubert_bce_train_submit.csv\")\n",
    "metric = auc_brier_ece_df(answer_df=train_answer_csv, submission_df=train_submit_csv)\n",
    "print(metric)"
   ]
  },
  {
   "cell_type": "code",
   "execution_count": null,
   "metadata": {},
   "outputs": [],
   "source": [
    "train_answer_csv = pd.read_csv(\"/home/work/joono/joono/dataset/train_answer.csv\")\n",
    "train_submit_csv = pd.read_csv(\"/home/work/joono/joono/joono/joono_hubert_bce_train_submit_zero_one.csv\")\n",
    "metric = auc_brier_ece_df(answer_df=train_answer_csv, submission_df=train_submit_csv)\n",
    "print(metric)"
   ]
  },
  {
   "cell_type": "code",
   "execution_count": null,
   "metadata": {},
   "outputs": [],
   "source": [
    "train_answer_csv = pd.read_csv(\"/home/work/joono/joono/dataset/train_answer.csv\")\n",
    "train_submit_csv = pd.read_csv(\"/home/work/joono/joono/joono/joono_hubert_bce_train_submit_zero_one2.csv\")\n",
    "metric = auc_brier_ece_df(answer_df=train_answer_csv, submission_df=train_submit_csv)\n",
    "print(metric)"
   ]
  },
  {
   "cell_type": "code",
   "execution_count": null,
   "metadata": {},
   "outputs": [],
   "source": [
    "train_answer_csv = pd.read_csv(\"/home/work/joono/joono/dataset/train_answer.csv\")\n",
    "train_submit_csv = pd.read_csv(\"/home/work/joono/joono/joono/joono_hubert_bce_train_submit_zero_one3.csv\")\n",
    "metric = auc_brier_ece_df(answer_df=train_answer_csv, submission_df=train_submit_csv)\n",
    "print(metric)"
   ]
  },
  {
   "cell_type": "code",
   "execution_count": null,
   "metadata": {},
   "outputs": [],
   "source": [
    "train_answer_csv = pd.read_csv(\"/home/work/joono/joono/dataset/train_answer.csv\")\n",
    "train_submit_csv = pd.read_csv(\"/home/work/joono/joono/joono/joono_hubert_bce_train_submit_zero_one4.csv\")\n",
    "metric = auc_brier_ece_df(answer_df=train_answer_csv, submission_df=train_submit_csv)\n",
    "print(metric)"
   ]
  },
  {
   "cell_type": "code",
   "execution_count": null,
   "metadata": {},
   "outputs": [],
   "source": [
    "train_answer_csv = pd.read_csv(\"/home/work/joono/joono/dataset/train_answer.csv\")\n",
    "train_submit_csv = pd.read_csv(\"/home/work/joono/joono/joono/joono_hubert_bce_train_submit_zero_one5.csv\")\n",
    "metric = auc_brier_ece_df(answer_df=train_answer_csv, submission_df=train_submit_csv)\n",
    "print(metric)"
   ]
  },
  {
   "cell_type": "code",
   "execution_count": null,
   "metadata": {},
   "outputs": [],
   "source": [
    "train_answer_csv = pd.read_csv(\"/home/work/joono/joono/dataset/train_answer.csv\")\n",
    "train_submit_csv = pd.read_csv(\"/home/work/joono/joono/joono/joono_hubert_init_lrsched_train_submit.csv\")\n",
    "metric = auc_brier_ece_df(answer_df=train_answer_csv, submission_df=train_submit_csv)\n",
    "print(metric)"
   ]
  },
  {
   "cell_type": "code",
   "execution_count": null,
   "metadata": {},
   "outputs": [],
   "source": [
    "train_answer_csv = pd.read_csv(\"/home/work/joono/joono/dataset/train_answer.csv\")\n",
    "train_submit_csv = pd.read_csv(\"/home/work/joono/joono/joono/submissions/joono_wav2vec2_train_submit.csv\")\n",
    "metric = auc_brier_ece_df(answer_df=train_answer_csv, submission_df=train_submit_csv)\n",
    "print(metric)"
   ]
  },
  {
   "cell_type": "code",
   "execution_count": null,
   "metadata": {},
   "outputs": [],
   "source": [
    "train_answer_csv = pd.read_csv(\"/home/work/joono/joono/dataset/train_answer.csv\")\n",
    "train_submit_csv = pd.read_csv(\"/home/work/joono/joono/joono/AASIST_train_test_align_centerloss_ce_ensemble_train.csv\")\n",
    "metric = auc_brier_ece_df(answer_df=train_answer_csv, submission_df=train_submit_csv)\n",
    "print(metric)"
   ]
  },
  {
   "cell_type": "code",
   "execution_count": null,
   "metadata": {},
   "outputs": [],
   "source": [
    "train_answer_csv = pd.read_csv(\"/home/work/joono/joono/dataset/train_answer.csv\")\n",
    "train_submit_csv = pd.read_csv(\"/home/work/joono/joono/joono/wav2vec2_train_test_align_lora_fixmatch.csv\")\n",
    "metric = auc_brier_ece_df(answer_df=train_answer_csv, submission_df=train_submit_csv)\n",
    "print(metric)"
   ]
  },
  {
   "cell_type": "code",
   "execution_count": null,
   "metadata": {},
   "outputs": [],
   "source": []
  }
 ],
 "metadata": {
  "kernelspec": {
   "display_name": "torch",
   "language": "python",
   "name": "python3"
  },
  "language_info": {
   "codemirror_mode": {
    "name": "ipython",
    "version": 3
   },
   "file_extension": ".py",
   "mimetype": "text/x-python",
   "name": "python",
   "nbconvert_exporter": "python",
   "pygments_lexer": "ipython3",
   "version": "3.12.3"
  }
 },
 "nbformat": 4,
 "nbformat_minor": 2
}
