{
 "cells": [
  {
   "cell_type": "code",
   "execution_count": 2,
   "metadata": {},
   "outputs": [],
   "source": [
    "import pandas as pd\n",
    "from src.utils import auc_brier_ece_df"
   ]
  },
  {
   "cell_type": "code",
   "execution_count": 5,
   "metadata": {},
   "outputs": [
    {
     "name": "stdout",
     "output_type": "stream",
     "text": [
      "mean_auc: 0.8864131700368105, mean_brier: 0.2513972981450667, mean_ece: 0.21740672873340688\n",
      "0.17399442170121315\n"
     ]
    }
   ],
   "source": [
    "train_answer_csv = pd.read_csv(\"/home/work/joono/joono/dataset/train_answer.csv\")\n",
    "train_submit_csv = pd.read_csv(\"/home/work/joono/joono/joono/submissions/joono_hubert_bce_train_submit.csv\")\n",
    "metric = auc_brier_ece_df(answer_df=train_answer_csv, submission_df=train_submit_csv)\n",
    "print(metric)"
   ]
  },
  {
   "cell_type": "code",
   "execution_count": null,
   "metadata": {},
   "outputs": [
    {
     "name": "stdout",
     "output_type": "stream",
     "text": [
      "mean_auc: 0.7205026163389849, mean_brier: 0.2787348028428154, mean_ece: 0.2787348028428154\n",
      "0.2791160932519152\n"
     ]
    }
   ],
   "source": [
    "train_answer_csv = pd.read_csv(\"/home/work/joono/joono/dataset/train_answer.csv\")\n",
    "train_submit_csv = pd.read_csv(\"/home/work/joono/joono/joono/joono_hubert_bce_train_submit_zero_one.csv\")\n",
    "metric = auc_brier_ece_df(answer_df=train_answer_csv, submission_df=train_submit_csv)\n",
    "print(metric)"
   ]
  },
  {
   "cell_type": "code",
   "execution_count": null,
   "metadata": {},
   "outputs": [
    {
     "name": "stdout",
     "output_type": "stream",
     "text": [
      "mean_auc: 0.8476809187826801, mean_brier: 0.20880288362916388, mean_ece: 0.17204589031994477\n",
      "0.1713717340959371\n"
     ]
    }
   ],
   "source": [
    "train_answer_csv = pd.read_csv(\"/home/work/joono/joono/dataset/train_answer.csv\")\n",
    "train_submit_csv = pd.read_csv(\"/home/work/joono/joono/joono/joono_hubert_bce_train_submit_zero_one2.csv\")\n",
    "metric = auc_brier_ece_df(answer_df=train_answer_csv, submission_df=train_submit_csv)\n",
    "print(metric)"
   ]
  },
  {
   "cell_type": "code",
   "execution_count": null,
   "metadata": {},
   "outputs": [
    {
     "name": "stdout",
     "output_type": "stream",
     "text": [
      "mean_auc: 0.8067573010905842, mean_brier: 0.23895838518889206, mean_ece: 0.25018033166804565\n",
      "0.21890602866894235\n"
     ]
    }
   ],
   "source": [
    "train_answer_csv = pd.read_csv(\"/home/work/joono/joono/dataset/train_answer.csv\")\n",
    "train_submit_csv = pd.read_csv(\"/home/work/joono/joono/joono/joono_hubert_bce_train_submit_zero_one3.csv\")\n",
    "metric = auc_brier_ece_df(answer_df=train_answer_csv, submission_df=train_submit_csv)\n",
    "print(metric)"
   ]
  },
  {
   "cell_type": "code",
   "execution_count": null,
   "metadata": {},
   "outputs": [
    {
     "name": "stdout",
     "output_type": "stream",
     "text": [
      "mean_auc: 0.8476809044659741, mean_brier: 0.2088569229090793, mean_ece: 0.17226483047491264\n",
      "0.17143998611301092\n"
     ]
    }
   ],
   "source": [
    "train_answer_csv = pd.read_csv(\"/home/work/joono/joono/dataset/train_answer.csv\")\n",
    "train_submit_csv = pd.read_csv(\"/home/work/joono/joono/joono/joono_hubert_bce_train_submit_zero_one4.csv\")\n",
    "metric = auc_brier_ece_df(answer_df=train_answer_csv, submission_df=train_submit_csv)\n",
    "print(metric)"
   ]
  },
  {
   "cell_type": "code",
   "execution_count": null,
   "metadata": {},
   "outputs": [
    {
     "name": "stdout",
     "output_type": "stream",
     "text": [
      "mean_auc: 0.8469988985637428, mean_brier: 0.20344045969342295, mean_ece: 0.15270711744501247\n",
      "0.16553744500273748\n"
     ]
    }
   ],
   "source": [
    "train_answer_csv = pd.read_csv(\"/home/work/joono/joono/dataset/train_answer.csv\")\n",
    "train_submit_csv = pd.read_csv(\"/home/work/joono/joono/joono/joono_hubert_bce_train_submit_zero_one5.csv\")\n",
    "metric = auc_brier_ece_df(answer_df=train_answer_csv, submission_df=train_submit_csv)\n",
    "print(metric)"
   ]
  },
  {
   "cell_type": "code",
   "execution_count": 5,
   "metadata": {},
   "outputs": [
    {
     "name": "stdout",
     "output_type": "stream",
     "text": [
      "mean_auc: 0.9975782933799187, mean_brier: 0.018840547967110162, mean_ece: 0.036130171652334425\n",
      "0.014953533214901818\n"
     ]
    }
   ],
   "source": [
    "train_answer_csv = pd.read_csv(\"/home/work/joono/joono/dataset/train_answer.csv\")\n",
    "train_submit_csv = pd.read_csv(\"/home/work/joono/joono/joono/joono_hubert_init_lrsched_train_submit.csv\")\n",
    "metric = auc_brier_ece_df(answer_df=train_answer_csv, submission_df=train_submit_csv)\n",
    "print(metric)"
   ]
  },
  {
   "cell_type": "code",
   "execution_count": 6,
   "metadata": {},
   "outputs": [
    {
     "name": "stdout",
     "output_type": "stream",
     "text": [
      "mean_auc: 0.9988963618985285, mean_brier: 0.010071938993589425, mean_ece: 0.0306519241444152\n",
      "0.010732784835236913\n"
     ]
    }
   ],
   "source": [
    "train_answer_csv = pd.read_csv(\"/home/work/joono/joono/dataset/train_answer.csv\")\n",
    "train_submit_csv = pd.read_csv(\"/home/work/joono/joono/joono/submissions/joono_wav2vec2_train_submit.csv\")\n",
    "metric = auc_brier_ece_df(answer_df=train_answer_csv, submission_df=train_submit_csv)\n",
    "print(metric)"
   ]
  },
  {
   "cell_type": "code",
   "execution_count": null,
   "metadata": {},
   "outputs": [],
   "source": []
  }
 ],
 "metadata": {
  "kernelspec": {
   "display_name": "torch",
   "language": "python",
   "name": "python3"
  },
  "language_info": {
   "codemirror_mode": {
    "name": "ipython",
    "version": 3
   },
   "file_extension": ".py",
   "mimetype": "text/x-python",
   "name": "python",
   "nbconvert_exporter": "python",
   "pygments_lexer": "ipython3",
   "version": "3.1.undefined"
  }
 },
 "nbformat": 4,
 "nbformat_minor": 2
}
